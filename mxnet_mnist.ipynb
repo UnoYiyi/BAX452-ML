{
 "cells": [
  {
   "cell_type": "markdown",
   "metadata": {},
   "source": [
    "# Training and hosting SageMaker Models using the Apache MXNet Module API\n",
    "\n",
    "The **SageMaker Python SDK** makes it easy to train and deploy MXNet models. In this example, we train a simple neural network using the Apache MXNet [Module API](https://mxnet.incubator.apache.org/api/python/module.html) and the MNIST dataset. The MNIST dataset is widely used for handwritten digit classification, and consists of 70,000 labeled 28x28 pixel grayscale images of hand-written digits. The dataset is split into 60,000 training images and 10,000 test images. There are 10 classes (one for each of the 10 digits). The task at hand is to train a model using the 60,000 training images and subsequently test its classification accuracy on the 10,000 test images.\n",
    "\n",
    "### Setup\n",
    "\n",
    "First we need to define a few variables that will be needed later in the example."
   ]
  },
  {
   "cell_type": "code",
   "execution_count": 23,
   "metadata": {
    "collapsed": true,
    "isConfigCell": true
   },
   "outputs": [],
   "source": [
    "from sagemaker import get_execution_role\n",
    "\n",
    "#IAM execution role that gives SageMaker access to resources in your AWS account.\n",
    "#We can use the SageMaker Python SDK to get the role from our notebook environment. \n",
    "role = get_execution_role()\n",
    "bucket = 'mlyiyi1'"
   ]
  },
  {
   "cell_type": "markdown",
   "metadata": {},
   "source": [
    "\n",
    "# Data ingestion\n",
    "Next, we read the dataset from the existing repository into memory, for preprocessing prior to training. In this case we'll use the MNIST dataset, which contains 70K 28 x 28 pixel images of handwritten digits. For more details, please see here.\n",
    "\n",
    "This processing could be done in situ by Amazon Athena, Apache Spark in Amazon EMR, Amazon Redshift, etc., assuming the dataset is present in the appropriate location. Then, the next step would be to transfer the data to S3 for use in training. For small datasets, such as this one, reading into memory isn't onerous, though it would be for larger datasets.\n",
    "ct yajieli912"
   ]
  },
  {
   "cell_type": "code",
   "execution_count": 16,
   "metadata": {},
   "outputs": [
    {
     "name": "stdout",
     "output_type": "stream",
     "text": [
      "CPU times: user 2.32 s, sys: 456 ms, total: 2.78 s\n",
      "Wall time: 3.78 s\n"
     ]
    }
   ],
   "source": [
    "%%time\n",
    "import pickle, gzip, numpy, urllib.request, json\n",
    "\n",
    "# Load the dataset\n",
    "urllib.request.urlretrieve(\"http://deeplearning.net/data/mnist/mnist.pkl.gz\", \"mnist.pkl.gz\")\n",
    "with gzip.open('mnist.pkl.gz', 'rb') as f:\n",
    "    train_set, valid_set, test_set = pickle.load(f, encoding='latin1')"
   ]
  },
  {
   "cell_type": "markdown",
   "metadata": {},
   "source": [
    "# Data inspection\n",
    "Once the dataset is imported, it's typical as part of the machine learning process to inspect the data, understand the distributions, and determine what type(s) of preprocessing might be needed. You can perform those tasks right here in the notebook. As an example, let's go ahead and look at one of the digits that is part of the dataset.\n",
    "ct yajielie912"
   ]
  },
  {
   "cell_type": "code",
   "execution_count": 17,
   "metadata": {},
   "outputs": [
    {
     "data": {
      "image/png": "[encoded data removed]",
      "text/plain": [
       "<matplotlib.figure.Figure at 0x7f039aa0e6a0>"
      ]
     },
     "metadata": {},
     "output_type": "display_data"
    }
   ],
   "source": [
    "%matplotlib inline\n",
    "import matplotlib.pyplot as plt\n",
    "plt.rcParams[\"figure.figsize\"] = (2,10)\n",
    "\n",
    "\n",
    "def show_digit(img, caption='', subplot=None):\n",
    "    if subplot==None:\n",
    "        _,(subplot)=plt.subplots(1,1)\n",
    "    imgr=img.reshape((28,28))\n",
    "    subplot.axis('off')\n",
    "    subplot.imshow(imgr, cmap='gray')\n",
    "    plt.title(caption)\n",
    "\n",
    "show_digit(train_set[0][30], 'This is a {}'.format(train_set[1][30]))"
   ]
  },
  {
   "cell_type": "markdown",
   "metadata": {},
   "source": [
    "### The training script\n",
    "\n",
    "The ``mnist.py`` script provides all the code we need for training and hosting a SageMaker model. The script we will use is adaptated from Apache MXNet [MNIST tutorial (https://mxnet.incubator.apache.org/tutorials/python/mnist.html)."
   ]
  },
  {
   "cell_type": "code",
   "execution_count": 25,
   "metadata": {},
   "outputs": [
    {
     "name": "stdout",
     "output_type": "stream",
     "text": [
      "training data will be uploaded to: s3://mlyiyi1/mxnet/code_output\n",
      "training artifacts will be uploaded to: s3://mlyiyi1/model_result\n"
     ]
    }
   ],
   "source": [
    "from sagemaker import get_execution_role\n",
    "\n",
    "#Bucket location to save your custom code in tar.gz format.\n",
    "custom_code_upload_location = 's3://mlyiyi1/mxnet/code_output'\n",
    "\n",
    "#Bucket location where results of model training are saved.\n",
    "model_artifacts_location = 's3://mlyiyi1/model_result'\n",
    "\n",
    "#IAM execution role that gives SageMaker access to resources in your AWS account.\n",
    "#We can use the SageMaker Python SDK to get the role from our notebook environment. \n",
    "role = get_execution_role()\n",
    "print('training data will be uploaded to: {}'.format(custom_code_upload_location))\n",
    "print('training artifacts will be uploaded to: {}'.format(model_artifacts_location))"
   ]
  },
  {
   "cell_type": "code",
   "execution_count": 26,
   "metadata": {},
   "outputs": [
    {
     "name": "stdout",
     "output_type": "stream",
     "text": [
      "import logging\r\n",
      "\r\n",
      "import gzip\r\n",
      "import mxnet as mx\r\n",
      "import numpy as np\r\n",
      "import os\r\n",
      "import struct\r\n",
      "\r\n",
      "\r\n",
      "def load_data(path):\r\n",
      "    with gzip.open(find_file(path, \"labels.gz\")) as flbl:\r\n",
      "        struct.unpack(\">II\", flbl.read(8))\r\n",
      "        labels = np.fromstring(flbl.read(), dtype=np.int8)\r\n",
      "    with gzip.open(find_file(path, \"images.gz\")) as fimg:\r\n",
      "        _, _, rows, cols = struct.unpack(\">IIII\", fimg.read(16))\r\n",
      "        images = np.fromstring(fimg.read(), dtype=np.uint8).reshape(len(labels), rows, cols)\r\n",
      "        images = images.reshape(images.shape[0], 1, 28, 28).astype(np.float32) / 255\r\n",
      "    return labels, images\r\n",
      "\r\n",
      "\r\n",
      "def find_file(root_path, file_name):\r\n",
      "    for root, dirs, files in os.walk(root_path):\r\n",
      "        if file_name in files:\r\n",
      "            return os.path.join(root, file_name)\r\n",
      "\r\n",
      "\r\n",
      "def build_graph():\r\n",
      "    data = mx.sym.var('data')\r\n",
      "    data = mx.sym.flatten(data=data)\r\n",
      "    fc1 = mx.sym.FullyConnected(data=data, num_hidden=128)\r\n",
      "    act1 = mx.sym.Activation(data=fc1, act_type=\"relu\")\r\n",
      "    fc2 = mx.sym.FullyConnected(data=act1, num_hidden=64)\r\n",
      "    act2 = mx.sym.Activation(data=fc2, act_type=\"relu\")\r\n",
      "    fc3 = mx.sym.FullyConnected(data=act2, num_hidden=10)\r\n",
      "    return mx.sym.SoftmaxOutput(data=fc3, name='softmax')\r\n",
      "\r\n",
      "\r\n",
      "def train(channel_input_dirs, hyperparameters, hosts, num_cpus, num_gpus, **kwargs):\r\n",
      "    (train_labels, train_images) = load_data(os.path.join(channel_input_dirs['train']))\r\n",
      "    (test_labels, test_images) = load_data(os.path.join(channel_input_dirs['test']))\r\n",
      "    batch_size = 100\r\n",
      "    train_iter = mx.io.NDArrayIter(train_images, train_labels, batch_size, shuffle=True)\r\n",
      "    val_iter = mx.io.NDArrayIter(test_images, test_labels, batch_size)\r\n",
      "    logging.getLogger().setLevel(logging.DEBUG)\r\n",
      "    kvstore = 'local' if len(hosts) == 1 else 'dist_sync'\r\n",
      "    mlp_model = mx.mod.Module(\r\n",
      "        symbol=build_graph(),\r\n",
      "        context=get_train_context(num_cpus, num_gpus))\r\n",
      "    mlp_model.fit(train_iter,\r\n",
      "                  eval_data=val_iter,\r\n",
      "                  kvstore=kvstore,\r\n",
      "                  optimizer='sgd',\r\n",
      "                  optimizer_params={'learning_rate': float(hyperparameters.get(\"learning_rate\", 0.1))},\r\n",
      "                  eval_metric='acc',\r\n",
      "                  batch_end_callback=mx.callback.Speedometer(batch_size, 100),\r\n",
      "                  num_epoch=25)\r\n",
      "    return mlp_model\r\n",
      "\r\n",
      "\r\n",
      "def get_train_context(num_cpus, num_gpus):\r\n",
      "    if num_gpus > 0:\r\n",
      "        return mx.gpu()\r\n",
      "    return mx.cpu()\r\n"
     ]
    }
   ],
   "source": [
    "!cat mnist.py"
   ]
  },
  {
   "cell_type": "markdown",
   "metadata": {},
   "source": [
    "### SageMaker's MXNet estimator class"
   ]
  },
  {
   "cell_type": "markdown",
   "metadata": {},
   "source": [
    "The SageMaker ```MXNet``` estimator allows us to run single machine or distributed training in SageMaker, using CPU or GPU-based instances.\n",
    "\n",
    "When we create the estimator, we pass in the filename of our training script, the name of our IAM execution role, and the S3 locations we defined in the setup section. We also provide a few other parameters. ``train_instance_count`` and ``train_instance_type`` determine the number and type of SageMaker instances that will be used for the training job. The ``hyperparameters`` parameter is a ``dict`` of values that will be passed to your training script -- you can see how to access these values in the ``mnist.py`` script above.\n",
    "\n",
    "For this example, we will choose one ``ml.m4.xlarge`` instance."
   ]
  },
  {
   "cell_type": "code",
   "execution_count": 27,
   "metadata": {
    "collapsed": true
   },
   "outputs": [],
   "source": [
    "from sagemaker.mxnet import MXNet\n",
    "\n",
    "mnist_estimator = MXNet(entry_point='mnist.py',\n",
    "                        role=role,\n",
    "                        output_path=model_artifacts_location,\n",
    "                        code_location=custom_code_upload_location,\n",
    "                        train_instance_count=1, \n",
    "                        train_instance_type='ml.m4.xlarge',\n",
    "                        hyperparameters={'learning_rate': 0.1})"
   ]
  },
  {
   "cell_type": "markdown",
   "metadata": {},
   "source": [
    "### Running the Training Job"
   ]
  },
  {
   "cell_type": "markdown",
   "metadata": {},
   "source": [
    "After we've constructed our MXNet object, we can fit it using data stored in S3. Below we run SageMaker training on two input channels: **train** and **test**.\n",
    "\n",
    "During training, SageMaker makes this data stored in S3 available in the local filesystem where the mnist script is running. The ```mnist.py``` script simply loads the train and test data from disk."
   ]
  },
  {
   "cell_type": "code",
   "execution_count": 28,
   "metadata": {
    "scrolled": true
   },
   "outputs": [
    {
     "name": "stderr",
     "output_type": "stream",
     "text": [
      "INFO:sagemaker:Creating training-job with name: sagemaker-mxnet-py2-cpu-2018-03-10-18-24-30-158\n"
     ]
    },
    {
     "name": "stdout",
     "output_type": "stream",
     "text": [
      "...................................................................................\n",
      "\u001b[31mexecuting startup script (first run)\u001b[0m\n",
      "\u001b[31m2018-03-10 18:30:54,324 INFO - root - running container entrypoint\u001b[0m\n",
      "\u001b[31m2018-03-10 18:30:54,324 INFO - root - starting train task\u001b[0m\n",
      "\u001b[31m2018-03-10 18:30:56,122 INFO - mxnet_container.train - MXNetTrainingEnvironment: {'enable_cloudwatch_metrics': False, 'available_gpus': 0, 'channels': {u'test': {u'TrainingInputMode': u'File', u'RecordWrapperType': u'None', u'S3DistributionType': u'FullyReplicated'}, u'train': {u'TrainingInputMode': u'File', u'RecordWrapperType': u'None', u'S3DistributionType': u'FullyReplicated'}}, '_ps_verbose': 0, 'resource_config': {u'current_host': u'algo-1', u'hosts': [u'algo-1']}, 'user_script_name': u'mnist.py', 'input_config_dir': '/opt/ml/input/config', 'channel_dirs': {u'test': u'/opt/ml/input/data/test', u'train': u'/opt/ml/input/data/train'}, 'code_dir': '/opt/ml/code', 'output_data_dir': '/opt/ml/output/data/', 'output_dir': '/opt/ml/output', 'model_dir': '/opt/ml/model', 'hyperparameters': {u'sagemaker_program': u'mnist.py', u'learning_rate': 0.1, u'sagemaker_submit_directory': u's3://mlyiyi1/mxnet/code_output/sagemaker-mxnet-py2-cpu-2018-03-10-18-24-30-158/source/sourcedir.tar.gz', u'sagemaker_region': u'us-east-1', u'sagemaker_enable_cloudwatch_metrics': False, u'sagemaker_job_name': u'sagemaker-mxnet-py2-cpu-2018-03-10-18-24-30-158', u'sagemaker_container_log_level': 20}, 'hosts': [u'algo-1'], '_scheduler_ip': '10.32.0.4', '_ps_port': 8000, 'user_script_archive': u's3://mlyiyi1/mxnet/code_output/sagemaker-mxnet-py2-cpu-2018-03-10-18-24-30-158/source/sourcedir.tar.gz', '_scheduler_host': u'algo-1', 'sagemaker_region': u'us-east-1', 'input_dir': '/opt/ml/input', 'user_requirements_file': None, 'current_host': u'algo-1', 'container_log_level': 20, 'available_cpus': 4, 'base_dir': '/opt/ml'}\u001b[0m\n",
      "\u001b[31mDownloading s3://mlyiyi1/mxnet/code_output/sagemaker-mxnet-py2-cpu-2018-03-10-18-24-30-158/source/sourcedir.tar.gz to /tmp/script.tar.gz\u001b[0m\n",
      "\u001b[31m2018-03-10 18:30:56,226 INFO - botocore.vendored.requests.packages.urllib3.connectionpool - Starting new HTTP connection (1): 169.254.170.2\u001b[0m\n",
      "\u001b[31m2018-03-10 18:30:56,331 INFO - botocore.vendored.requests.packages.urllib3.connectionpool - Starting new HTTPS connection (1): s3.amazonaws.com\u001b[0m\n",
      "\u001b[31m2018-03-10 18:30:56,399 INFO - mxnet_container.train - Starting distributed training task\u001b[0m\n",
      "\u001b[31m2018-03-10 18:30:57,962 INFO - root - Epoch[0] Batch [100]#011Speed: 27532.36 samples/sec#011accuracy=0.106238\u001b[0m\n",
      "\u001b[31m2018-03-10 18:30:58,279 INFO - root - Epoch[0] Batch [200]#011Speed: 31593.77 samples/sec#011accuracy=0.113500\u001b[0m\n",
      "\u001b[31m2018-03-10 18:30:58,614 INFO - root - Epoch[0] Batch [300]#011Speed: 29892.67 samples/sec#011accuracy=0.108700\u001b[0m\n",
      "\u001b[31m2018-03-10 18:30:58,977 INFO - root - Epoch[0] Batch [400]#011Speed: 27529.03 samples/sec#011accuracy=0.110900\u001b[0m\n",
      "\u001b[31m2018-03-10 18:30:59,329 INFO - root - Epoch[0] Batch [500]#011Speed: 28408.61 samples/sec#011accuracy=0.113800\u001b[0m\n",
      "\u001b[31m2018-03-10 18:30:59,645 INFO - root - Epoch[0] Train-accuracy=0.259697\u001b[0m\n",
      "\u001b[31m2018-03-10 18:30:59,646 INFO - root - Epoch[0] Time cost=2.075\u001b[0m\n",
      "\u001b[31m2018-03-10 18:30:59,788 INFO - root - Epoch[0] Validation-accuracy=0.356600\u001b[0m\n",
      "\u001b[31m2018-03-10 18:31:00,147 INFO - root - Epoch[1] Batch [100]#011Speed: 28109.94 samples/sec#011accuracy=0.460891\u001b[0m\n",
      "\u001b[31m2018-03-10 18:31:00,466 INFO - root - Epoch[1] Batch [200]#011Speed: 31340.61 samples/sec#011accuracy=0.577800\u001b[0m\n",
      "\u001b[31m2018-03-10 18:31:00,855 INFO - root - Epoch[1] Batch [300]#011Speed: 25748.78 samples/sec#011accuracy=0.730500\u001b[0m\n",
      "\u001b[31m2018-03-10 18:31:01,189 INFO - root - Epoch[1] Batch [400]#011Speed: 29926.78 samples/sec#011accuracy=0.799000\u001b[0m\n",
      "\u001b[31m2018-03-10 18:31:01,531 INFO - root - Epoch[1] Batch [500]#011Speed: 29259.53 samples/sec#011accuracy=0.828600\u001b[0m\n",
      "\u001b[31m2018-03-10 18:31:01,875 INFO - root - Epoch[1] Train-accuracy=0.840606\u001b[0m\n",
      "\u001b[31m2018-03-10 18:31:01,875 INFO - root - Epoch[1] Time cost=2.087\u001b[0m\n",
      "\u001b[31m2018-03-10 18:31:02,018 INFO - root - Epoch[1] Validation-accuracy=0.861200\u001b[0m\n",
      "\u001b[31m2018-03-10 18:31:02,339 INFO - root - Epoch[2] Batch [100]#011Speed: 31391.95 samples/sec#011accuracy=0.856634\u001b[0m\n",
      "\u001b[31m2018-03-10 18:31:02,630 INFO - root - Epoch[2] Batch [200]#011Speed: 34436.45 samples/sec#011accuracy=0.878800\u001b[0m\n",
      "\u001b[31m2018-03-10 18:31:02,984 INFO - root - Epoch[2] Batch [300]#011Speed: 28295.99 samples/sec#011accuracy=0.888600\u001b[0m\n",
      "\u001b[31m2018-03-10 18:31:03,344 INFO - root - Epoch[2] Batch [400]#011Speed: 27794.68 samples/sec#011accuracy=0.897100\u001b[0m\n",
      "\u001b[31m2018-03-10 18:31:03,731 INFO - root - Epoch[2] Batch [500]#011Speed: 25819.19 samples/sec#011accuracy=0.905300\u001b[0m\n",
      "\u001b[31m2018-03-10 18:31:04,079 INFO - root - Epoch[2] Train-accuracy=0.911717\u001b[0m\n",
      "\u001b[31m2018-03-10 18:31:04,079 INFO - root - Epoch[2] Time cost=2.061\u001b[0m\n",
      "\u001b[31m2018-03-10 18:31:04,229 INFO - root - Epoch[2] Validation-accuracy=0.921100\u001b[0m\n",
      "\u001b[31m2018-03-10 18:31:04,547 INFO - root - Epoch[3] Batch [100]#011Speed: 31689.40 samples/sec#011accuracy=0.913762\u001b[0m\n",
      "\u001b[31m2018-03-10 18:31:04,894 INFO - root - Epoch[3] Batch [200]#011Speed: 28861.03 samples/sec#011accuracy=0.926000\u001b[0m\n",
      "\u001b[31m2018-03-10 18:31:05,232 INFO - root - Epoch[3] Batch [300]#011Speed: 29595.88 samples/sec#011accuracy=0.929400\u001b[0m\n",
      "\u001b[31m2018-03-10 18:31:05,604 INFO - root - Epoch[3] Batch [400]#011Speed: 26875.00 samples/sec#011accuracy=0.932300\u001b[0m\n",
      "\u001b[31m2018-03-10 18:31:06,013 INFO - root - Epoch[3] Batch [500]#011Speed: 24464.54 samples/sec#011accuracy=0.932500\u001b[0m\n",
      "\u001b[31m2018-03-10 18:31:06,339 INFO - root - Epoch[3] Train-accuracy=0.939899\u001b[0m\n",
      "\u001b[31m2018-03-10 18:31:06,339 INFO - root - Epoch[3] Time cost=2.111\u001b[0m\n",
      "\u001b[31m2018-03-10 18:31:06,494 INFO - root - Epoch[3] Validation-accuracy=0.944100\u001b[0m\n",
      "\u001b[31m2018-03-10 18:31:06,870 INFO - root - Epoch[4] Batch [100]#011Speed: 26794.93 samples/sec#011accuracy=0.942871\u001b[0m\n",
      "\u001b[31m2018-03-10 18:31:07,308 INFO - root - Epoch[4] Batch [200]#011Speed: 22832.67 samples/sec#011accuracy=0.948500\u001b[0m\n",
      "\u001b[31m2018-03-10 18:31:07,644 INFO - root - Epoch[4] Batch [300]#011Speed: 29782.39 samples/sec#011accuracy=0.949400\u001b[0m\n",
      "\u001b[31m2018-03-10 18:31:08,000 INFO - root - Epoch[4] Batch [400]#011Speed: 28067.97 samples/sec#011accuracy=0.948400\u001b[0m\n",
      "\u001b[31m2018-03-10 18:31:08,346 INFO - root - Epoch[4] Batch [500]#011Speed: 28957.05 samples/sec#011accuracy=0.950200\u001b[0m\n",
      "\u001b[31m2018-03-10 18:31:08,716 INFO - root - Epoch[4] Train-accuracy=0.952828\u001b[0m\n",
      "\u001b[31m2018-03-10 18:31:08,716 INFO - root - Epoch[4] Time cost=2.223\u001b[0m\n",
      "\u001b[31m2018-03-10 18:31:08,898 INFO - root - Epoch[4] Validation-accuracy=0.954300\u001b[0m\n",
      "\u001b[31m2018-03-10 18:31:09,239 INFO - root - Epoch[5] Batch [100]#011Speed: 29612.53 samples/sec#011accuracy=0.955248\u001b[0m\n",
      "\u001b[31m2018-03-10 18:31:09,546 INFO - root - Epoch[5] Batch [200]#011Speed: 32551.23 samples/sec#011accuracy=0.958400\u001b[0m\n",
      "\u001b[31m2018-03-10 18:31:09,869 INFO - root - Epoch[5] Batch [300]#011Speed: 31033.24 samples/sec#011accuracy=0.958900\u001b[0m\n",
      "\u001b[31m2018-03-10 18:31:10,155 INFO - root - Epoch[5] Batch [400]#011Speed: 34895.36 samples/sec#011accuracy=0.959000\u001b[0m\n",
      "\u001b[31m2018-03-10 18:31:10,401 INFO - root - Epoch[5] Batch [500]#011Speed: 40767.59 samples/sec#011accuracy=0.958500\u001b[0m\n",
      "\u001b[31m2018-03-10 18:31:10,744 INFO - root - Epoch[5] Train-accuracy=0.963030\u001b[0m\n",
      "\u001b[31m2018-03-10 18:31:10,744 INFO - root - Epoch[5] Time cost=1.845\u001b[0m\n",
      "\u001b[31m2018-03-10 18:31:10,932 INFO - root - Epoch[5] Validation-accuracy=0.960000\u001b[0m\n",
      "\u001b[31m2018-03-10 18:31:11,278 INFO - root - Epoch[6] Batch [100]#011Speed: 29084.74 samples/sec#011accuracy=0.961683\u001b[0m\n",
      "\u001b[31m2018-03-10 18:31:11,616 INFO - root - Epoch[6] Batch [200]#011Speed: 29571.55 samples/sec#011accuracy=0.966700\u001b[0m\n",
      "\u001b[31m2018-03-10 18:31:11,979 INFO - root - Epoch[6] Batch [300]#011Speed: 27568.80 samples/sec#011accuracy=0.967100\u001b[0m\n",
      "\u001b[31m2018-03-10 18:31:12,316 INFO - root - Epoch[6] Batch [400]#011Speed: 29699.95 samples/sec#011accuracy=0.966900\u001b[0m\n",
      "\u001b[31m2018-03-10 18:31:12,634 INFO - root - Epoch[6] Batch [500]#011Speed: 31498.94 samples/sec#011accuracy=0.964400\u001b[0m\n",
      "\u001b[31m2018-03-10 18:31:12,959 INFO - root - Epoch[6] Train-accuracy=0.967778\u001b[0m\n",
      "\u001b[31m2018-03-10 18:31:12,959 INFO - root - Epoch[6] Time cost=2.027\u001b[0m\n",
      "\u001b[31m2018-03-10 18:31:13,105 INFO - root - Epoch[6] Validation-accuracy=0.963500\u001b[0m\n",
      "\u001b[31m2018-03-10 18:31:13,444 INFO - root - Epoch[7] Batch [100]#011Speed: 29679.40 samples/sec#011accuracy=0.965248\u001b[0m\n",
      "\u001b[31m2018-03-10 18:31:13,738 INFO - root - Epoch[7] Batch [200]#011Speed: 34077.92 samples/sec#011accuracy=0.972300\u001b[0m\n",
      "\u001b[31m2018-03-10 18:31:14,075 INFO - root - Epoch[7] Batch [300]#011Speed: 29679.14 samples/sec#011accuracy=0.971700\u001b[0m\n",
      "\u001b[31m2018-03-10 18:31:14,384 INFO - root - Epoch[7] Batch [400]#011Speed: 32362.26 samples/sec#011accuracy=0.972500\u001b[0m\n",
      "\u001b[31m2018-03-10 18:31:14,731 INFO - root - Epoch[7] Batch [500]#011Speed: 28837.73 samples/sec#011accuracy=0.968800\u001b[0m\n",
      "\u001b[31m2018-03-10 18:31:15,090 INFO - root - Epoch[7] Train-accuracy=0.972727\u001b[0m\n",
      "\u001b[31m2018-03-10 18:31:15,090 INFO - root - Epoch[7] Time cost=1.985\u001b[0m\n",
      "\u001b[31m2018-03-10 18:31:15,228 INFO - root - Epoch[7] Validation-accuracy=0.966900\u001b[0m\n",
      "\u001b[31m2018-03-10 18:31:15,557 INFO - root - Epoch[8] Batch [100]#011Speed: 30657.07 samples/sec#011accuracy=0.969703\u001b[0m\n",
      "\u001b[31m2018-03-10 18:31:15,900 INFO - root - Epoch[8] Batch [200]#011Speed: 29115.81 samples/sec#011accuracy=0.975700\u001b[0m\n",
      "\u001b[31m2018-03-10 18:31:16,210 INFO - root - Epoch[8] Batch [300]#011Speed: 32284.09 samples/sec#011accuracy=0.974200\u001b[0m\n",
      "\u001b[31m2018-03-10 18:31:16,519 INFO - root - Epoch[8] Batch [400]#011Speed: 32360.56 samples/sec#011accuracy=0.977700\u001b[0m\n",
      "\u001b[31m2018-03-10 18:31:16,859 INFO - root - Epoch[8] Batch [500]#011Speed: 29471.58 samples/sec#011accuracy=0.972300\u001b[0m\n",
      "\u001b[31m2018-03-10 18:31:17,178 INFO - root - Epoch[8] Train-accuracy=0.976263\u001b[0m\n",
      "\u001b[31m2018-03-10 18:31:17,178 INFO - root - Epoch[8] Time cost=1.949\u001b[0m\n",
      "\u001b[31m2018-03-10 18:31:17,350 INFO - root - Epoch[8] Validation-accuracy=0.969100\u001b[0m\n",
      "\u001b[31m2018-03-10 18:31:17,653 INFO - root - Epoch[9] Batch [100]#011Speed: 33267.24 samples/sec#011accuracy=0.974356\u001b[0m\n",
      "\u001b[31m2018-03-10 18:31:17,976 INFO - root - Epoch[9] Batch [200]#011Speed: 30993.62 samples/sec#011accuracy=0.978300\u001b[0m\n",
      "\u001b[31m2018-03-10 18:31:18,279 INFO - root - Epoch[9] Batch [300]#011Speed: 33078.08 samples/sec#011accuracy=0.977700\u001b[0m\n",
      "\u001b[31m2018-03-10 18:31:18,568 INFO - root - Epoch[9] Batch [400]#011Speed: 34579.59 samples/sec#011accuracy=0.979800\u001b[0m\n",
      "\u001b[31m2018-03-10 18:31:18,902 INFO - root - Epoch[9] Batch [500]#011Speed: 29925.69 samples/sec#011accuracy=0.975500\u001b[0m\n",
      "\u001b[31m2018-03-10 18:31:19,193 INFO - root - Epoch[9] Train-accuracy=0.978485\u001b[0m\n",
      "\u001b[31m2018-03-10 18:31:19,193 INFO - root - Epoch[9] Time cost=1.843\u001b[0m\n",
      "\u001b[31m2018-03-10 18:31:19,334 INFO - root - Epoch[9] Validation-accuracy=0.970100\u001b[0m\n",
      "\u001b[31m2018-03-10 18:31:19,655 INFO - root - Epoch[10] Batch [100]#011Speed: 31385.75 samples/sec#011accuracy=0.977624\u001b[0m\n",
      "\u001b[31m2018-03-10 18:31:20,021 INFO - root - Epoch[10] Batch [200]#011Speed: 27394.86 samples/sec#011accuracy=0.981300\u001b[0m\n",
      "\u001b[31m2018-03-10 18:31:20,333 INFO - root - Epoch[10] Batch [300]#011Speed: 32074.73 samples/sec#011accuracy=0.981000\u001b[0m\n",
      "\u001b[31m2018-03-10 18:31:20,637 INFO - root - Epoch[10] Batch [400]#011Speed: 32896.48 samples/sec#011accuracy=0.982100\u001b[0m\n",
      "\u001b[31m2018-03-10 18:31:20,972 INFO - root - Epoch[10] Batch [500]#011Speed: 29871.70 samples/sec#011accuracy=0.978400\u001b[0m\n",
      "\u001b[31m2018-03-10 18:31:21,267 INFO - root - Epoch[10] Train-accuracy=0.980606\u001b[0m\n",
      "\u001b[31m2018-03-10 18:31:21,267 INFO - root - Epoch[10] Time cost=1.933\u001b[0m\n",
      "\u001b[31m2018-03-10 18:31:21,428 INFO - root - Epoch[10] Validation-accuracy=0.971900\u001b[0m\n",
      "\u001b[31m2018-03-10 18:31:21,744 INFO - root - Epoch[11] Batch [100]#011Speed: 31915.65 samples/sec#011accuracy=0.980990\u001b[0m\n",
      "\u001b[31m2018-03-10 18:31:22,093 INFO - root - Epoch[11] Batch [200]#011Speed: 28645.25 samples/sec#011accuracy=0.983300\u001b[0m\n",
      "\u001b[31m2018-03-10 18:31:22,411 INFO - root - Epoch[11] Batch [300]#011Speed: 31449.88 samples/sec#011accuracy=0.983600\u001b[0m\n",
      "\u001b[31m2018-03-10 18:31:22,694 INFO - root - Epoch[11] Batch [400]#011Speed: 35442.14 samples/sec#011accuracy=0.984500\u001b[0m\n",
      "\u001b[31m2018-03-10 18:31:22,972 INFO - root - Epoch[11] Batch [500]#011Speed: 36008.14 samples/sec#011accuracy=0.981100\u001b[0m\n",
      "\u001b[31m2018-03-10 18:31:23,216 INFO - root - Epoch[11] Train-accuracy=0.983636\u001b[0m\n",
      "\u001b[31m2018-03-10 18:31:23,216 INFO - root - Epoch[11] Time cost=1.788\u001b[0m\n",
      "\u001b[31m2018-03-10 18:31:23,344 INFO - root - Epoch[11] Validation-accuracy=0.974000\u001b[0m\n",
      "\u001b[31m2018-03-10 18:31:23,620 INFO - root - Epoch[12] Batch [100]#011Speed: 36566.81 samples/sec#011accuracy=0.983168\u001b[0m\n",
      "\u001b[31m2018-03-10 18:31:23,898 INFO - root - Epoch[12] Batch [200]#011Speed: 35973.68 samples/sec#011accuracy=0.985000\u001b[0m\n",
      "\u001b[31m2018-03-10 18:31:24,147 INFO - root - Epoch[12] Batch [300]#011Speed: 40251.47 samples/sec#011accuracy=0.985800\u001b[0m\n",
      "\u001b[31m2018-03-10 18:31:24,457 INFO - root - Epoch[12] Batch [400]#011Speed: 32212.14 samples/sec#011accuracy=0.986600\u001b[0m\n",
      "\u001b[31m2018-03-10 18:31:24,714 INFO - root - Epoch[12] Batch [500]#011Speed: 38959.01 samples/sec#011accuracy=0.983900\u001b[0m\n",
      "\u001b[31m2018-03-10 18:31:25,062 INFO - root - Epoch[12] Train-accuracy=0.985556\u001b[0m\n",
      "\u001b[31m2018-03-10 18:31:25,062 INFO - root - Epoch[12] Time cost=1.718\u001b[0m\n",
      "\u001b[31m2018-03-10 18:31:25,215 INFO - root - Epoch[12] Validation-accuracy=0.974700\u001b[0m\n",
      "\u001b[31m2018-03-10 18:31:25,514 INFO - root - Epoch[13] Batch [100]#011Speed: 33700.21 samples/sec#011accuracy=0.985545\u001b[0m\n"
     ]
    },
    {
     "name": "stdout",
     "output_type": "stream",
     "text": [
      "\u001b[31m2018-03-10 18:31:25,828 INFO - root - Epoch[13] Batch [200]#011Speed: 31896.38 samples/sec#011accuracy=0.986400\u001b[0m\n",
      "\u001b[31m2018-03-10 18:31:26,077 INFO - root - Epoch[13] Batch [300]#011Speed: 40176.94 samples/sec#011accuracy=0.987800\u001b[0m\n",
      "\u001b[31m2018-03-10 18:31:26,329 INFO - root - Epoch[13] Batch [400]#011Speed: 39747.70 samples/sec#011accuracy=0.987900\u001b[0m\n",
      "\u001b[31m2018-03-10 18:31:26,580 INFO - root - Epoch[13] Batch [500]#011Speed: 39951.73 samples/sec#011accuracy=0.985900\u001b[0m\n",
      "\u001b[31m2018-03-10 18:31:26,860 INFO - root - Epoch[13] Train-accuracy=0.987576\u001b[0m\n",
      "\u001b[31m2018-03-10 18:31:26,860 INFO - root - Epoch[13] Time cost=1.645\u001b[0m\n",
      "\u001b[31m2018-03-10 18:31:26,989 INFO - root - Epoch[13] Validation-accuracy=0.975000\u001b[0m\n",
      "\u001b[31m2018-03-10 18:31:27,237 INFO - root - Epoch[14] Batch [100]#011Speed: 40691.25 samples/sec#011accuracy=0.987624\u001b[0m\n",
      "\u001b[31m2018-03-10 18:31:27,516 INFO - root - Epoch[14] Batch [200]#011Speed: 35884.61 samples/sec#011accuracy=0.988200\u001b[0m\n",
      "\u001b[31m2018-03-10 18:31:27,775 INFO - root - Epoch[14] Batch [300]#011Speed: 38661.81 samples/sec#011accuracy=0.989800\u001b[0m\n",
      "\u001b[31m2018-03-10 18:31:28,061 INFO - root - Epoch[14] Batch [400]#011Speed: 35002.47 samples/sec#011accuracy=0.990100\u001b[0m\n",
      "\u001b[31m2018-03-10 18:31:28,309 INFO - root - Epoch[14] Batch [500]#011Speed: 40404.87 samples/sec#011accuracy=0.988500\u001b[0m\n",
      "\u001b[31m2018-03-10 18:31:28,557 INFO - root - Epoch[14] Train-accuracy=0.989596\u001b[0m\n",
      "\u001b[31m2018-03-10 18:31:28,557 INFO - root - Epoch[14] Time cost=1.568\u001b[0m\n",
      "\u001b[31m2018-03-10 18:31:28,686 INFO - root - Epoch[14] Validation-accuracy=0.974800\u001b[0m\n",
      "\u001b[31m2018-03-10 18:31:28,983 INFO - root - Epoch[15] Batch [100]#011Speed: 33960.82 samples/sec#011accuracy=0.989505\u001b[0m\n",
      "\u001b[31m2018-03-10 18:31:29,265 INFO - root - Epoch[15] Batch [200]#011Speed: 35463.50 samples/sec#011accuracy=0.990200\u001b[0m\n",
      "\u001b[31m2018-03-10 18:31:29,562 INFO - root - Epoch[15] Batch [300]#011Speed: 33686.02 samples/sec#011accuracy=0.990800\u001b[0m\n",
      "\u001b[31m2018-03-10 18:31:29,848 INFO - root - Epoch[15] Batch [400]#011Speed: 34979.23 samples/sec#011accuracy=0.991100\u001b[0m\n",
      "\u001b[31m2018-03-10 18:31:30,168 INFO - root - Epoch[15] Batch [500]#011Speed: 31350.02 samples/sec#011accuracy=0.989900\u001b[0m\n",
      "\u001b[31m2018-03-10 18:31:30,479 INFO - root - Epoch[15] Train-accuracy=0.991212\u001b[0m\n",
      "\u001b[31m2018-03-10 18:31:30,479 INFO - root - Epoch[15] Time cost=1.793\u001b[0m\n",
      "\u001b[31m2018-03-10 18:31:30,621 INFO - root - Epoch[15] Validation-accuracy=0.974600\u001b[0m\n",
      "\u001b[31m2018-03-10 18:31:30,975 INFO - root - Epoch[16] Batch [100]#011Speed: 28418.77 samples/sec#011accuracy=0.990594\u001b[0m\n",
      "\u001b[31m2018-03-10 18:31:31,244 INFO - root - Epoch[16] Batch [200]#011Speed: 37201.55 samples/sec#011accuracy=0.992000\u001b[0m\n",
      "\u001b[31m2018-03-10 18:31:31,551 INFO - root - Epoch[16] Batch [300]#011Speed: 32601.86 samples/sec#011accuracy=0.991900\u001b[0m\n",
      "\u001b[31m2018-03-10 18:31:31,854 INFO - root - Epoch[16] Batch [400]#011Speed: 33038.74 samples/sec#011accuracy=0.992900\u001b[0m\n",
      "\u001b[31m2018-03-10 18:31:32,150 INFO - root - Epoch[16] Batch [500]#011Speed: 33818.87 samples/sec#011accuracy=0.991800\u001b[0m\n",
      "\u001b[31m2018-03-10 18:31:32,430 INFO - root - Epoch[16] Train-accuracy=0.992020\u001b[0m\n",
      "\u001b[31m2018-03-10 18:31:32,430 INFO - root - Epoch[16] Time cost=1.809\u001b[0m\n",
      "\u001b[31m2018-03-10 18:31:32,563 INFO - root - Epoch[16] Validation-accuracy=0.975000\u001b[0m\n",
      "\u001b[31m2018-03-10 18:31:32,882 INFO - root - Epoch[17] Batch [100]#011Speed: 31576.81 samples/sec#011accuracy=0.991881\u001b[0m\n",
      "\u001b[31m2018-03-10 18:31:33,133 INFO - root - Epoch[17] Batch [200]#011Speed: 39906.30 samples/sec#011accuracy=0.993000\u001b[0m\n",
      "\u001b[31m2018-03-10 18:31:33,440 INFO - root - Epoch[17] Batch [300]#011Speed: 32547.21 samples/sec#011accuracy=0.993100\u001b[0m\n",
      "\u001b[31m2018-03-10 18:31:33,713 INFO - root - Epoch[17] Batch [400]#011Speed: 36697.11 samples/sec#011accuracy=0.993700\u001b[0m\n",
      "\u001b[31m2018-03-10 18:31:34,030 INFO - root - Epoch[17] Batch [500]#011Speed: 31619.45 samples/sec#011accuracy=0.992300\u001b[0m\n",
      "\u001b[31m2018-03-10 18:31:34,301 INFO - root - Epoch[17] Train-accuracy=0.992525\u001b[0m\n",
      "\u001b[31m2018-03-10 18:31:34,301 INFO - root - Epoch[17] Time cost=1.738\u001b[0m\n",
      "\u001b[31m2018-03-10 18:31:34,435 INFO - root - Epoch[17] Validation-accuracy=0.975800\u001b[0m\n",
      "\u001b[31m2018-03-10 18:31:34,721 INFO - root - Epoch[18] Batch [100]#011Speed: 35266.52 samples/sec#011accuracy=0.993564\u001b[0m\n",
      "\u001b[31m2018-03-10 18:31:35,025 INFO - root - Epoch[18] Batch [200]#011Speed: 32946.66 samples/sec#011accuracy=0.993600\u001b[0m\n",
      "\u001b[31m2018-03-10 18:31:35,329 INFO - root - Epoch[18] Batch [300]#011Speed: 32835.54 samples/sec#011accuracy=0.993500\u001b[0m\n",
      "\u001b[31m2018-03-10 18:31:35,643 INFO - root - Epoch[18] Batch [400]#011Speed: 31888.16 samples/sec#011accuracy=0.994600\u001b[0m\n",
      "\u001b[31m2018-03-10 18:31:35,966 INFO - root - Epoch[18] Batch [500]#011Speed: 31014.77 samples/sec#011accuracy=0.993900\u001b[0m\n",
      "\u001b[31m2018-03-10 18:31:36,251 INFO - root - Epoch[18] Train-accuracy=0.993636\u001b[0m\n",
      "\u001b[31m2018-03-10 18:31:36,251 INFO - root - Epoch[18] Time cost=1.816\u001b[0m\n",
      "\u001b[31m2018-03-10 18:31:36,386 INFO - root - Epoch[18] Validation-accuracy=0.975400\u001b[0m\n",
      "\u001b[31m2018-03-10 18:31:36,681 INFO - root - Epoch[19] Batch [100]#011Speed: 34162.11 samples/sec#011accuracy=0.995149\u001b[0m\n",
      "\u001b[31m2018-03-10 18:31:36,999 INFO - root - Epoch[19] Batch [200]#011Speed: 31512.36 samples/sec#011accuracy=0.995000\u001b[0m\n",
      "\u001b[31m2018-03-10 18:31:37,285 INFO - root - Epoch[19] Batch [300]#011Speed: 34940.48 samples/sec#011accuracy=0.994600\u001b[0m\n",
      "\u001b[31m2018-03-10 18:31:37,572 INFO - root - Epoch[19] Batch [400]#011Speed: 34866.30 samples/sec#011accuracy=0.995100\u001b[0m\n",
      "\u001b[31m2018-03-10 18:31:37,911 INFO - root - Epoch[19] Batch [500]#011Speed: 29547.96 samples/sec#011accuracy=0.995000\u001b[0m\n",
      "\u001b[31m2018-03-10 18:31:38,195 INFO - root - Epoch[19] Train-accuracy=0.994949\u001b[0m\n",
      "\u001b[31m2018-03-10 18:31:38,195 INFO - root - Epoch[19] Time cost=1.809\u001b[0m\n",
      "\u001b[31m2018-03-10 18:31:38,330 INFO - root - Epoch[19] Validation-accuracy=0.975900\u001b[0m\n",
      "\u001b[31m2018-03-10 18:31:38,621 INFO - root - Epoch[20] Batch [100]#011Speed: 34617.07 samples/sec#011accuracy=0.996337\u001b[0m\n",
      "\u001b[31m2018-03-10 18:31:38,948 INFO - root - Epoch[20] Batch [200]#011Speed: 30593.21 samples/sec#011accuracy=0.996000\u001b[0m\n",
      "\u001b[31m2018-03-10 18:31:39,237 INFO - root - Epoch[20] Batch [300]#011Speed: 34641.85 samples/sec#011accuracy=0.995000\u001b[0m\n",
      "\u001b[31m2018-03-10 18:31:39,525 INFO - root - Epoch[20] Batch [400]#011Speed: 34771.72 samples/sec#011accuracy=0.996300\u001b[0m\n",
      "\u001b[31m2018-03-10 18:31:39,882 INFO - root - Epoch[20] Batch [500]#011Speed: 28036.57 samples/sec#011accuracy=0.995900\u001b[0m\n",
      "\u001b[31m2018-03-10 18:31:40,227 INFO - root - Epoch[20] Train-accuracy=0.996263\u001b[0m\n",
      "\u001b[31m2018-03-10 18:31:40,227 INFO - root - Epoch[20] Time cost=1.897\u001b[0m\n",
      "\u001b[31m2018-03-10 18:31:40,364 INFO - root - Epoch[20] Validation-accuracy=0.976500\u001b[0m\n",
      "\u001b[31m2018-03-10 18:31:40,683 INFO - root - Epoch[21] Batch [100]#011Speed: 31530.03 samples/sec#011accuracy=0.997129\u001b[0m\n",
      "\u001b[31m2018-03-10 18:31:41,009 INFO - root - Epoch[21] Batch [200]#011Speed: 30684.36 samples/sec#011accuracy=0.997000\u001b[0m\n",
      "\u001b[31m2018-03-10 18:31:41,339 INFO - root - Epoch[21] Batch [300]#011Speed: 30352.60 samples/sec#011accuracy=0.996500\u001b[0m\n",
      "\u001b[31m2018-03-10 18:31:41,667 INFO - root - Epoch[21] Batch [400]#011Speed: 30485.58 samples/sec#011accuracy=0.997300\u001b[0m\n",
      "\u001b[31m2018-03-10 18:31:42,026 INFO - root - Epoch[21] Batch [500]#011Speed: 27879.93 samples/sec#011accuracy=0.996800\u001b[0m\n",
      "\u001b[31m2018-03-10 18:31:42,355 INFO - root - Epoch[21] Train-accuracy=0.996667\u001b[0m\n",
      "\u001b[31m2018-03-10 18:31:42,355 INFO - root - Epoch[21] Time cost=1.991\u001b[0m\n",
      "\u001b[31m2018-03-10 18:31:42,528 INFO - root - Epoch[21] Validation-accuracy=0.976400\u001b[0m\n",
      "\u001b[31m2018-03-10 18:31:42,893 INFO - root - Epoch[22] Batch [100]#011Speed: 27543.58 samples/sec#011accuracy=0.997525\u001b[0m\n",
      "\u001b[31m2018-03-10 18:31:43,229 INFO - root - Epoch[22] Batch [200]#011Speed: 29818.44 samples/sec#011accuracy=0.997200\u001b[0m\n",
      "\u001b[31m2018-03-10 18:31:43,551 INFO - root - Epoch[22] Batch [300]#011Speed: 31041.92 samples/sec#011accuracy=0.996800\u001b[0m\n",
      "\u001b[31m2018-03-10 18:31:43,948 INFO - root - Epoch[22] Batch [400]#011Speed: 25236.65 samples/sec#011accuracy=0.997500\u001b[0m\n",
      "\u001b[31m2018-03-10 18:31:44,279 INFO - root - Epoch[22] Batch [500]#011Speed: 30186.23 samples/sec#011accuracy=0.997000\u001b[0m\n",
      "\u001b[31m2018-03-10 18:31:44,601 INFO - root - Epoch[22] Train-accuracy=0.996970\u001b[0m\n",
      "\u001b[31m2018-03-10 18:31:44,601 INFO - root - Epoch[22] Time cost=2.073\u001b[0m\n",
      "\u001b[31m2018-03-10 18:31:44,753 INFO - root - Epoch[22] Validation-accuracy=0.976000\u001b[0m\n",
      "\u001b[31m2018-03-10 18:31:45,116 INFO - root - Epoch[23] Batch [100]#011Speed: 27747.96 samples/sec#011accuracy=0.998020\u001b[0m\n",
      "\u001b[31m2018-03-10 18:31:45,448 INFO - root - Epoch[23] Batch [200]#011Speed: 30086.41 samples/sec#011accuracy=0.997500\u001b[0m\n",
      "\u001b[31m2018-03-10 18:31:45,831 INFO - root - Epoch[23] Batch [300]#011Speed: 26165.41 samples/sec#011accuracy=0.997300\u001b[0m\n",
      "\u001b[31m2018-03-10 18:31:46,154 INFO - root - Epoch[23] Batch [400]#011Speed: 30981.83 samples/sec#011accuracy=0.998400\u001b[0m\n",
      "\u001b[31m2018-03-10 18:31:46,499 INFO - root - Epoch[23] Batch [500]#011Speed: 28963.51 samples/sec#011accuracy=0.997700\u001b[0m\n",
      "\u001b[31m2018-03-10 18:31:46,858 INFO - root - Epoch[23] Train-accuracy=0.997374\u001b[0m\n",
      "\u001b[31m2018-03-10 18:31:46,858 INFO - root - Epoch[23] Time cost=2.106\u001b[0m\n",
      "\u001b[31m2018-03-10 18:31:47,011 INFO - root - Epoch[23] Validation-accuracy=0.976100\u001b[0m\n",
      "\u001b[31m2018-03-10 18:31:47,332 INFO - root - Epoch[24] Batch [100]#011Speed: 31383.47 samples/sec#011accuracy=0.998515\u001b[0m\n",
      "\u001b[31m2018-03-10 18:31:47,628 INFO - root - Epoch[24] Batch [200]#011Speed: 33733.30 samples/sec#011accuracy=0.998100\u001b[0m\n",
      "\u001b[31m2018-03-10 18:31:48,015 INFO - root - Epoch[24] Batch [300]#011Speed: 25852.69 samples/sec#011accuracy=0.998100\u001b[0m\n",
      "\u001b[31m2018-03-10 18:31:48,348 INFO - root - Epoch[24] Batch [400]#011Speed: 30121.76 samples/sec#011accuracy=0.998700\u001b[0m\n",
      "\u001b[31m2018-03-10 18:31:48,663 INFO - root - Epoch[24] Batch [500]#011Speed: 31755.90 samples/sec#011accuracy=0.998100\u001b[0m\n",
      "\u001b[31m2018-03-10 18:31:49,005 INFO - root - Epoch[24] Train-accuracy=0.997677\u001b[0m\n",
      "\u001b[31m2018-03-10 18:31:49,005 INFO - root - Epoch[24] Time cost=1.995\u001b[0m\n",
      "\u001b[31m2018-03-10 18:31:49,137 INFO - root - Epoch[24] Validation-accuracy=0.976400\u001b[0m\n"
     ]
    },
    {
     "name": "stdout",
     "output_type": "stream",
     "text": [
      "===== Job Complete =====\n",
      "CPU times: user 800 ms, sys: 16 ms, total: 816 ms\n",
      "Wall time: 8min 10s\n"
     ]
    }
   ],
   "source": [
    "%%time\n",
    "import boto3\n",
    "\n",
    "region = boto3.Session().region_name\n",
    "train_data_location = 's3://sagemaker-sample-data-{}/mxnet/mnist/train'.format(region)\n",
    "test_data_location = 's3://sagemaker-sample-data-{}/mxnet/mnist/test'.format(region)\n",
    "\n",
    "mnist_estimator.fit({'train': train_data_location, 'test': test_data_location})"
   ]
  },
  {
   "cell_type": "markdown",
   "metadata": {},
   "source": [
    "### Creating an inference Endpoint\n",
    "\n",
    "After training, we use the ``MXNet estimator`` object to build and deploy an ``MXNetPredictor``. This creates a Sagemaker **Endpoint** -- a hosted prediction service that we can use to perform inference. \n",
    "\n",
    "The arguments to the ``deploy`` function allow us to set the number and type of instances that will be used for the Endpoint. These do not need to be the same as the values we used for the training job. For example, you can train a model on a set of GPU-based instances, and then deploy the Endpoint to a fleet of CPU-based instances. Here we will deploy the model to a single ``ml.m4.xlarge`` instance."
   ]
  },
  {
   "cell_type": "code",
   "execution_count": 29,
   "metadata": {},
   "outputs": [
    {
     "name": "stderr",
     "output_type": "stream",
     "text": [
      "INFO:sagemaker:Creating model with name: sagemaker-mxnet-py2-cpu-2018-03-10-18-24-30-158\n",
      "INFO:sagemaker:Creating endpoint with name sagemaker-mxnet-py2-cpu-2018-03-10-18-24-30-158\n"
     ]
    },
    {
     "name": "stdout",
     "output_type": "stream",
     "text": [
      "---------------------------------------------------------------------------------------------------------------!CPU times: user 456 ms, sys: 56 ms, total: 512 ms\n",
      "Wall time: 9min 30s\n"
     ]
    }
   ],
   "source": [
    "%%time\n",
    "\n",
    "predictor = mnist_estimator.deploy(initial_instance_count=1,\n",
    "                                   instance_type='ml.m4.xlarge')"
   ]
  },
  {
   "cell_type": "markdown",
   "metadata": {},
   "source": [
    "The request handling behavior of the Endpoint is determined by the ``mnist.py`` script. In this case, the script doesn't include any request handling functions, so the Endpoint will use the default handlers provided by SageMaker. These default handlers allow us to perform inference on input data encoded as a multi-dimensional JSON array.\n",
    "\n",
    "### Making an inference request\n",
    "\n",
    "Now that our Endpoint is deployed and we have a ``predictor`` object, we can use it to classify handwritten digits.\n",
    "\n",
    "To see inference in action, draw a digit in the image box below. The pixel data from your drawing will be loaded into a ``data`` variable in this notebook. \n",
    "\n",
    "*Note: after drawing the image, you'll need to move to the next notebook cell.*"
   ]
  },
  {
   "cell_type": "code",
   "execution_count": 48,
   "metadata": {},
   "outputs": [
    {
     "data": {
      "text/html": [
       "<script type=\"text/Javascript\">\n",
       "    var pixels = [];\n",
       "    for (var i = 0; i < 28*28; i++) pixels[i] = 0;\n",
       "    var click = 0;\n",
       "\n",
       "    var canvas = document.querySelector(\"canvas\");\n",
       "    canvas.addEventListener(\"mousemove\", function(e){\n",
       "        if (e.buttons == 1) {\n",
       "            click = 1;\n",
       "            canvas.getContext(\"2d\").fillStyle = \"rgb(0,0,0)\";\n",
       "            canvas.getContext(\"2d\").fillRect(e.offsetX, e.offsetY, 8, 8);\n",
       "            x = Math.floor(e.offsetY * 0.2);\n",
       "            y = Math.floor(e.offsetX * 0.2) + 1;\n",
       "            for (var dy = 0; dy < 2; dy++){\n",
       "                for (var dx = 0; dx < 2; dx++){\n",
       "                    if ((x + dx < 28) && (y + dy < 28)){\n",
       "                        pixels[(y+dy)+(x+dx)*28] = 1;\n",
       "                    }\n",
       "                }\n",
       "            }\n",
       "        } else {\n",
       "            if (click == 1) set_value();\n",
       "            click = 0;\n",
       "        }\n",
       "    });\n",
       "    function clear_value(){\n",
       "        canvas.getContext(\"2d\").fillStyle = \"rgb(255,255,255)\";\n",
       "        canvas.getContext(\"2d\").fillRect(0, 0, 140, 140);\n",
       "        for (var i = 0; i < 28*28; i++) pixels[i] = 0;\n",
       "    }\n",
       "    \n",
       "    function set_value(){\n",
       "        var result = \"[[\"\n",
       "        for (var i = 0; i < 28; i++) {\n",
       "            result += \"[\"\n",
       "            for (var j = 0; j < 28; j++) {\n",
       "                result += pixels [i * 28 + j]\n",
       "                if (j < 27) {\n",
       "                    result += \", \"\n",
       "                }\n",
       "            }\n",
       "            result += \"]\"\n",
       "            if (i < 27) {\n",
       "                result += \", \"\n",
       "            }\n",
       "        }\n",
       "        result += \"]]\"\n",
       "        var kernel = IPython.notebook.kernel;\n",
       "        kernel.execute(\"data = \" + result)\n",
       "    }\n",
       "</script>\n",
       "<table>\n",
       "<td style=\"border-style: none;\">\n",
       "<div style=\"border: solid 2px #666; width: 143px; height: 144px;\">\n",
       "<canvas width=\"140\" height=\"140\"></canvas>\n",
       "</div></td>\n",
       "<td style=\"border-style: none;\">\n",
       "<button onclick=\"clear_value()\">Clear</button>\n",
       "</td>\n",
       "</table>\n",
       "\n",
       "<!-- This work has been modified from the original and is licensed under the Apache 2.0 License. -->\n",
       "\n",
       "<!--\n",
       "                                     Apache License\n",
       "                           Version 2.0, January 2004\n",
       "                        http://www.apache.org/licenses/\n",
       "\n",
       "   TERMS AND CONDITIONS FOR USE, REPRODUCTION, AND DISTRIBUTION\n",
       "\n",
       "   1. Definitions.\n",
       "\n",
       "      \"License\" shall mean the terms and conditions for use, reproduction,\n",
       "      and distribution as defined by Sections 1 through 9 of this document.\n",
       "\n",
       "      \"Licensor\" shall mean the copyright owner or entity authorized by\n",
       "      the copyright owner that is granting the License.\n",
       "\n",
       "      \"Legal Entity\" shall mean the union of the acting entity and all\n",
       "      other entities that control, are controlled by, or are under common\n",
       "      control with that entity. For the purposes of this definition,\n",
       "      \"control\" means (i) the power, direct or indirect, to cause the\n",
       "      direction or management of such entity, whether by contract or\n",
       "      otherwise, or (ii) ownership of fifty percent (50%) or more of the\n",
       "      outstanding shares, or (iii) beneficial ownership of such entity.\n",
       "\n",
       "      \"You\" (or \"Your\") shall mean an individual or Legal Entity\n",
       "      exercising permissions granted by this License.\n",
       "\n",
       "      \"Source\" form shall mean the preferred form for making modifications,\n",
       "      including but not limited to software source code, documentation\n",
       "      source, and configuration files.\n",
       "\n",
       "      \"Object\" form shall mean any form resulting from mechanical\n",
       "      transformation or translation of a Source form, including but\n",
       "      not limited to compiled object code, generated documentation,\n",
       "      and conversions to other media types.\n",
       "\n",
       "      \"Work\" shall mean the work of authorship, whether in Source or\n",
       "      Object form, made available under the License, as indicated by a\n",
       "      copyright notice that is included in or attached to the work\n",
       "      (an example is provided in the Appendix below).\n",
       "\n",
       "      \"Derivative Works\" shall mean any work, whether in Source or Object\n",
       "      form, that is based on (or derived from) the Work and for which the\n",
       "      editorial revisions, annotations, elaborations, or other modifications\n",
       "      represent, as a whole, an original work of authorship. For the purposes\n",
       "      of this License, Derivative Works shall not include works that remain\n",
       "      separable from, or merely link (or bind by name) to the interfaces of,\n",
       "      the Work and Derivative Works thereof.\n",
       "\n",
       "      \"Contribution\" shall mean any work of authorship, including\n",
       "      the original version of the Work and any modifications or additions\n",
       "      to that Work or Derivative Works thereof, that is intentionally\n",
       "      submitted to Licensor for inclusion in the Work by the copyright owner\n",
       "      or by an individual or Legal Entity authorized to submit on behalf of\n",
       "      the copyright owner. For the purposes of this definition, \"submitted\"\n",
       "      means any form of electronic, verbal, or written communication sent\n",
       "      to the Licensor or its representatives, including but not limited to\n",
       "      communication on electronic mailing lists, source code control systems,\n",
       "      and issue tracking systems that are managed by, or on behalf of, the\n",
       "      Licensor for the purpose of discussing and improving the Work, but\n",
       "      excluding communication that is conspicuously marked or otherwise\n",
       "      designated in writing by the copyright owner as \"Not a Contribution.\"\n",
       "\n",
       "      \"Contributor\" shall mean Licensor and any individual or Legal Entity\n",
       "      on behalf of whom a Contribution has been received by Licensor and\n",
       "      subsequently incorporated within the Work.\n",
       "\n",
       "   2. Grant of Copyright License. Subject to the terms and conditions of\n",
       "      this License, each Contributor hereby grants to You a perpetual,\n",
       "      worldwide, non-exclusive, no-charge, royalty-free, irrevocable\n",
       "      copyright license to reproduce, prepare Derivative Works of,\n",
       "      publicly display, publicly perform, sublicense, and distribute the\n",
       "      Work and such Derivative Works in Source or Object form.\n",
       "\n",
       "   3. Grant of Patent License. Subject to the terms and conditions of\n",
       "      this License, each Contributor hereby grants to You a perpetual,\n",
       "      worldwide, non-exclusive, no-charge, royalty-free, irrevocable\n",
       "      (except as stated in this section) patent license to make, have made,\n",
       "      use, offer to sell, sell, import, and otherwise transfer the Work,\n",
       "      where such license applies only to those patent claims licensable\n",
       "      by such Contributor that are necessarily infringed by their\n",
       "      Contribution(s) alone or by combination of their Contribution(s)\n",
       "      with the Work to which such Contribution(s) was submitted. If You\n",
       "      institute patent litigation against any entity (including a\n",
       "      cross-claim or counterclaim in a lawsuit) alleging that the Work\n",
       "      or a Contribution incorporated within the Work constitutes direct\n",
       "      or contributory patent infringement, then any patent licenses\n",
       "      granted to You under this License for that Work shall terminate\n",
       "      as of the date such litigation is filed.\n",
       "\n",
       "   4. Redistribution. You may reproduce and distribute copies of the\n",
       "      Work or Derivative Works thereof in any medium, with or without\n",
       "      modifications, and in Source or Object form, provided that You\n",
       "      meet the following conditions:\n",
       "\n",
       "      (a) You must give any other recipients of the Work or\n",
       "          Derivative Works a copy of this License; and\n",
       "\n",
       "      (b) You must cause any modified files to carry prominent notices\n",
       "          stating that You changed the files; and\n",
       "\n",
       "      (c) You must retain, in the Source form of any Derivative Works\n",
       "          that You distribute, all copyright, patent, trademark, and\n",
       "          attribution notices from the Source form of the Work,\n",
       "          excluding those notices that do not pertain to any part of\n",
       "          the Derivative Works; and\n",
       "\n",
       "      (d) If the Work includes a \"NOTICE\" text file as part of its\n",
       "          distribution, then any Derivative Works that You distribute must\n",
       "          include a readable copy of the attribution notices contained\n",
       "          within such NOTICE file, excluding those notices that do not\n",
       "          pertain to any part of the Derivative Works, in at least one\n",
       "          of the following places: within a NOTICE text file distributed\n",
       "          as part of the Derivative Works; within the Source form or\n",
       "          documentation, if provided along with the Derivative Works; or,\n",
       "          within a display generated by the Derivative Works, if and\n",
       "          wherever such third-party notices normally appear. The contents\n",
       "          of the NOTICE file are for informational purposes only and\n",
       "          do not modify the License. You may add Your own attribution\n",
       "          notices within Derivative Works that You distribute, alongside\n",
       "          or as an addendum to the NOTICE text from the Work, provided\n",
       "          that such additional attribution notices cannot be construed\n",
       "          as modifying the License.\n",
       "\n",
       "      You may add Your own copyright statement to Your modifications and\n",
       "      may provide additional or different license terms and conditions\n",
       "      for use, reproduction, or distribution of Your modifications, or\n",
       "      for any such Derivative Works as a whole, provided Your use,\n",
       "      reproduction, and distribution of the Work otherwise complies with\n",
       "      the conditions stated in this License.\n",
       "\n",
       "   5. Submission of Contributions. Unless You explicitly state otherwise,\n",
       "      any Contribution intentionally submitted for inclusion in the Work\n",
       "      by You to the Licensor shall be under the terms and conditions of\n",
       "      this License, without any additional terms or conditions.\n",
       "      Notwithstanding the above, nothing herein shall supersede or modify\n",
       "      the terms of any separate license agreement you may have executed\n",
       "      with Licensor regarding such Contributions.\n",
       "\n",
       "   6. Trademarks. This License does not grant permission to use the trade\n",
       "      names, trademarks, service marks, or product names of the Licensor,\n",
       "      except as required for reasonable and customary use in describing the\n",
       "      origin of the Work and reproducing the content of the NOTICE file.\n",
       "\n",
       "   7. Disclaimer of Warranty. Unless required by applicable law or\n",
       "      agreed to in writing, Licensor provides the Work (and each\n",
       "      Contributor provides its Contributions) on an \"AS IS\" BASIS,\n",
       "      WITHOUT WARRANTIES OR CONDITIONS OF ANY KIND, either express or\n",
       "      implied, including, without limitation, any warranties or conditions\n",
       "      of TITLE, NON-INFRINGEMENT, MERCHANTABILITY, or FITNESS FOR A\n",
       "      PARTICULAR PURPOSE. You are solely responsible for determining the\n",
       "      appropriateness of using or redistributing the Work and assume any\n",
       "      risks associated with Your exercise of permissions under this License.\n",
       "\n",
       "   8. Limitation of Liability. In no event and under no legal theory,\n",
       "      whether in tort (including negligence), contract, or otherwise,\n",
       "      unless required by applicable law (such as deliberate and grossly\n",
       "      negligent acts) or agreed to in writing, shall any Contributor be\n",
       "      liable to You for damages, including any direct, indirect, special,\n",
       "      incidental, or consequential damages of any character arising as a\n",
       "      result of this License or out of the use or inability to use the\n",
       "      Work (including but not limited to damages for loss of goodwill,\n",
       "      work stoppage, computer failure or malfunction, or any and all\n",
       "      other commercial damages or losses), even if such Contributor\n",
       "      has been advised of the possibility of such damages.\n",
       "\n",
       "   9. Accepting Warranty or Additional Liability. While redistributing\n",
       "      the Work or Derivative Works thereof, You may choose to offer,\n",
       "      and charge a fee for, acceptance of support, warranty, indemnity,\n",
       "      or other liability obligations and/or rights consistent with this\n",
       "      License. However, in accepting such obligations, You may act only\n",
       "      on Your own behalf and on Your sole responsibility, not on behalf\n",
       "      of any other Contributor, and only if You agree to indemnify,\n",
       "      defend, and hold each Contributor harmless for any liability\n",
       "      incurred by, or claims asserted against, such Contributor by reason\n",
       "      of your accepting any such warranty or additional liability.\n",
       "\n",
       "   END OF TERMS AND CONDITIONS\n",
       "\n",
       "   APPENDIX: How to apply the Apache License to your work.\n",
       "\n",
       "      To apply the Apache License to your work, attach the following\n",
       "      boilerplate notice, with the fields enclosed by brackets \"{}\"\n",
       "      replaced with your own identifying information. (Don't include\n",
       "      the brackets!)  The text should be enclosed in the appropriate\n",
       "      comment syntax for the file format. We also recommend that a\n",
       "      file or class name and description of purpose be included on the\n",
       "      same \"printed page\" as the copyright notice for easier\n",
       "      identification within third-party archives.\n",
       "\n",
       "   Copyright {yyyy} {name of copyright owner}\n",
       "\n",
       "   Licensed under the Apache License, Version 2.0 (the \"License\");\n",
       "   you may not use this file except in compliance with the License.\n",
       "   You may obtain a copy of the License at\n",
       "\n",
       "       http://www.apache.org/licenses/LICENSE-2.0\n",
       "\n",
       "   Unless required by applicable law or agreed to in writing, software\n",
       "   distributed under the License is distributed on an \"AS IS\" BASIS,\n",
       "   WITHOUT WARRANTIES OR CONDITIONS OF ANY KIND, either express or implied.\n",
       "   See the License for the specific language governing permissions and\n",
       "   limitations under the License.\n",
       "-->\n",
       "\n",
       "\n",
       "\n",
       "\n"
      ],
      "text/plain": [
       "<IPython.core.display.HTML object>"
      ]
     },
     "execution_count": 48,
     "metadata": {},
     "output_type": "execute_result"
    }
   ],
   "source": [
    "from IPython.display import HTML\n",
    "HTML(open(\"input.html\").read())"
   ]
  },
  {
   "cell_type": "markdown",
   "metadata": {},
   "source": [
    "Now we can use the ``predictor`` object to classify the handwritten digit:"
   ]
  },
  {
   "cell_type": "code",
   "execution_count": 49,
   "metadata": {
    "scrolled": true
   },
   "outputs": [
    {
     "name": "stdout",
     "output_type": "stream",
     "text": [
      "Raw prediction result:\n",
      "[[2.865603761226243e-11, 5.268218046694528e-06, 8.12717989902012e-05, 0.006592219695448875, 2.7743383762199314e-13, 8.058685807554866e-08, 1.4153549971704935e-15, 0.9933187961578369, 1.4616524595112423e-06, 9.715909072838258e-07]]\n",
      "Labeled predictions: \n",
      "[(0, 2.865603761226243e-11), (1, 5.268218046694528e-06), (2, 8.12717989902012e-05), (3, 0.006592219695448875), (4, 2.7743383762199314e-13), (5, 8.058685807554866e-08), (6, 1.4153549971704935e-15), (7, 0.9933187961578369), (8, 1.4616524595112423e-06), (9, 9.715909072838258e-07)]\n",
      "Most likely answer: (7, 0.9933187961578369)\n"
     ]
    }
   ],
   "source": [
    "response = predictor.predict(data)\n",
    "print('Raw prediction result:')\n",
    "print(response)\n",
    "\n",
    "labeled_predictions = list(zip(range(10), response[0]))\n",
    "print('Labeled predictions: ')\n",
    "print(labeled_predictions)\n",
    "\n",
    "labeled_predictions.sort(key=lambda label_and_prob: 1.0 - label_and_prob[1])\n",
    "print('Most likely answer: {}'.format(labeled_predictions[0]))"
   ]
  },
  {
   "cell_type": "markdown",
   "metadata": {
    "collapsed": true
   },
   "source": [
    "# (Optional) Delete the Endpoint\n",
    "\n",
    "After you have finished with this example, remember to delete the prediction endpoint to release the instance(s) associated with it."
   ]
  },
  {
   "cell_type": "code",
   "execution_count": 50,
   "metadata": {},
   "outputs": [
    {
     "name": "stdout",
     "output_type": "stream",
     "text": [
      "Endpoint name: sagemaker-mxnet-py2-cpu-2018-03-10-18-24-30-158\n"
     ]
    }
   ],
   "source": [
    "print(\"Endpoint name: \" + predictor.endpoint)"
   ]
  },
  {
   "cell_type": "code",
   "execution_count": 51,
   "metadata": {},
   "outputs": [
    {
     "name": "stderr",
     "output_type": "stream",
     "text": [
      "INFO:sagemaker:Deleting endpoint with name: sagemaker-mxnet-py2-cpu-2018-03-10-18-24-30-158\n"
     ]
    }
   ],
   "source": [
    "import sagemaker\n",
    "\n",
    "sagemaker.Session().delete_endpoint(predictor.endpoint)"
   ]
  },
  {
   "cell_type": "code",
   "execution_count": null,
   "metadata": {
    "collapsed": true
   },
   "outputs": [],
   "source": []
  }
 ],
 "metadata": {
  "kernelspec": {
   "display_name": "conda_mxnet_p36",
   "language": "python",
   "name": "conda_mxnet_p36"
  },
  "language_info": {
   "codemirror_mode": {
    "name": "ipython",
    "version": 3
   },
   "file_extension": ".py",
   "mimetype": "text/x-python",
   "name": "python",
   "nbconvert_exporter": "python",
   "pygments_lexer": "ipython3",
   "version": "3.6.2"
  },
  "notice": "Copyright 2017 Amazon.com, Inc. or its affiliates. All Rights Reserved.  Licensed under the Apache License, Version 2.0 (the \"License\"). You may not use this file except in compliance with the License. A copy of the License is located at http://aws.amazon.com/apache2.0/ or in the \"license\" file accompanying this file. This file is distributed on an \"AS IS\" BASIS, WITHOUT WARRANTIES OR CONDITIONS OF ANY KIND, either express or implied. See the License for the specific language governing permissions and limitations under the License."
 },
 "nbformat": 4,
 "nbformat_minor": 2
}
